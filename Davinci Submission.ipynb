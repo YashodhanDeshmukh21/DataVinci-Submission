{
 "cells": [
  {
   "cell_type": "markdown",
   "id": "7d7b0460",
   "metadata": {},
   "source": [
    "# Method 1:\n",
    "\n",
    "\n",
    "The code provided performs the following tasks:\n",
    "\n",
    "extract_stock_data: This function takes in the stock symbol, start date, and end date as input parameters. It uses the yfinance library to download the historical stock data for the specified symbol and date range from Yahoo Finance. If an error occurs during data extraction, it prints an error message and returns None.\n",
    "\n",
    "calculate_average_volume: This function calculates the average daily trading volume from the extracted stock data. It takes the data as input and uses the 'Volume' column to calculate the mean. If the data is None, indicating an error during extraction, it returns None. Otherwise, it returns the calculated average volume.\n",
    "\n",
    "visualize_stock_performance: This function visualizes the stock's performance using a candlestick chart. It takes the stock data as input and uses the mplfinance library to plot the candlestick chart. The chart includes the opening price, closing price, high, low, and volume for each trading day.\n",
    "\n",
    "The main part of the code defines the stock symbol, start date, and end date for the desired stock data. It then calls the extract_stock_data function to retrieve the historical data. Next, it calls the calculate_average_volume function to calculate the average daily trading volume and prints the result. Finally, it calls the visualize_stock_performance function to plot the candlestick chart for the stock's performance.\n",
    "\n",
    "Challenges and solutions:\n",
    "\n",
    "One challenge may be handling errors during data extraction. The try-except block in the extract_stock_data function captures any exceptions that occur and prints an error message.\n",
    "Another challenge could be dealing with missing or null values in the data. In this code, we assume that the data extracted from Yahoo Finance is clean and does not contain missing values. However, if there are missing values, additional handling or preprocessing steps may be required.\n",
    "Overall, the code provides a straightforward approach to extract stock data, calculate average volume, and visualize the stock's performance using a candlestick chart. It leverages popular libraries like yfinance and mplfinance to simplify the data extraction and visualization process."
   ]
  },
  {
   "cell_type": "code",
   "execution_count": null,
   "id": "9ca80d98",
   "metadata": {},
   "outputs": [],
   "source": []
  },
  {
   "cell_type": "markdown",
   "id": "3f75d2c1",
   "metadata": {},
   "source": [
    "# Method 2:\n",
    "\n",
    "The provided code performs the following steps:\n",
    "\n",
    "extract_stock_data: This function uses the yfinance library to download historical stock data for a specified symbol, start date, and end date. It returns the data or None if an error occurs.\n",
    "\n",
    "Define the stock symbol, start date, and end date for data extraction.\n",
    "\n",
    "Step 1: Extract historical data by calling the extract_stock_data function.\n",
    "\n",
    "Step 2: Calculate additional parameters such as return, volatility, market cap, and P/E ratio using the extracted data.\n",
    "\n",
    "Step 3: Save the data to a CSV file if it exists and provide a success message. If an error occurs during data extraction, an error message is displayed.\n",
    "\n",
    "Specify the path to the CSV file and read the data into a DataFrame.\n",
    "\n",
    "Check for missing values in the DataFrame using the isnull() function.\n",
    "\n",
    "Fill the missing values in the 'Return' column with the mean return value calculated using the mean() function.\n",
    "\n",
    "Fill the missing values in the 'Volatility' column with the mean volatility value using the fillna() function.\n",
    "\n",
    "Check for missing values in the DataFrame again to verify that all missing values have been filled.\n",
    "\n",
    "Plot the volatility vs. day using matplotlib and plt.plot().\n",
    "\n",
    "Plot a candlestick chart for the stock's performance using mplfinance and mpf.plot().\n",
    "\n",
    "Approach:\n",
    "The code starts by defining a function to extract stock data from Yahoo Finance using the yfinance library. The data is then saved to a CSV file and read into a DataFrame for further processing. Missing values in the 'Return' and 'Volatility' columns are handled by filling them with the mean values. Finally, the code plots the volatility vs. day graph using matplotlib and a candlestick chart using mplfinance.\n",
    "\n",
    "Challenges:\n",
    "One challenge that could arise is handling errors during data extraction or when accessing specific columns in the DataFrame. To address this, the code uses try-except blocks to capture and handle exceptions. Another challenge could be handling missing values in the data, which is addressed by filling them with appropriate values such as the mean.\n",
    "\n",
    "Overall, the code follows a structured approach to extract stock data, calculate additional parameters, handle missing values, and visualize the data using different libraries."
   ]
  },
  {
   "cell_type": "code",
   "execution_count": 81,
   "id": "b9d3705b",
   "metadata": {},
   "outputs": [
    {
     "name": "stdout",
     "output_type": "stream",
     "text": [
      "[*********************100%***********************]  1 of 1 completed\n",
      "Stock data saved to RELIANCE.NS_2022-06-28_2023-06-28.csv\n"
     ]
    }
   ],
   "source": [
    "import pandas as pd\n",
    "import yfinance as yf\n",
    "\n",
    "def extract_stock_data(symbol, start_date, end_date):\n",
    "    try:\n",
    "        data = yf.download(symbol, start=start_date, end=end_date)\n",
    "        return data\n",
    "    except Exception as e:\n",
    "        print(f\"Error occurred while extracting data: {e}\")\n",
    "        return None\n",
    "\n",
    "# Define the stock symbol, start date, and end date\n",
    "symbol = 'RELIANCE.NS'\n",
    "start_date = '2022-06-28'\n",
    "end_date = '2023-06-28'\n",
    "\n",
    "# Step 1: Extract historical data\n",
    "stock_data = extract_stock_data(symbol, start_date, end_date)\n",
    "\n",
    "# Step 2: Calculate additional parameters\n",
    "stock_data['Return'] = stock_data['Close'].pct_change() * 100\n",
    "stock_data['Volatility'] = stock_data['Close'].rolling(window=30).std()\n",
    "stock_data['Market_Cap'] = yf.Ticker(symbol).info.get('marketCap')\n",
    "stock_data['P_E_Ratio'] = yf.Ticker(symbol).info.get('trailingPE')\n",
    "\n",
    "# Step 2: Save data to CSV file\n",
    "if stock_data is not None:\n",
    "    file_name = f\"{symbol}_{start_date}_{end_date}.csv\"\n",
    "    stock_data.to_csv(file_name)\n",
    "    print(f\"Stock data saved to {file_name}\")\n",
    "else:\n",
    "    print(\"Error occurred while extracting stock data.\")\n"
   ]
  },
  {
   "cell_type": "code",
   "execution_count": 82,
   "id": "788058d8",
   "metadata": {},
   "outputs": [],
   "source": [
    "# Specify the path to the CSV file\n",
    "file_path = \"RELIANCE.NS_2022-06-28_2023-06-28.csv\"\n",
    "\n",
    "# Read the data from the CSV file\n",
    "data = pd.read_csv(file_path)"
   ]
  },
  {
   "cell_type": "code",
   "execution_count": 83,
   "id": "2eb0a577",
   "metadata": {},
   "outputs": [
    {
     "data": {
      "text/html": [
       "<div>\n",
       "<style scoped>\n",
       "    .dataframe tbody tr th:only-of-type {\n",
       "        vertical-align: middle;\n",
       "    }\n",
       "\n",
       "    .dataframe tbody tr th {\n",
       "        vertical-align: top;\n",
       "    }\n",
       "\n",
       "    .dataframe thead th {\n",
       "        text-align: right;\n",
       "    }\n",
       "</style>\n",
       "<table border=\"1\" class=\"dataframe\">\n",
       "  <thead>\n",
       "    <tr style=\"text-align: right;\">\n",
       "      <th></th>\n",
       "      <th>Date</th>\n",
       "      <th>Open</th>\n",
       "      <th>High</th>\n",
       "      <th>Low</th>\n",
       "      <th>Close</th>\n",
       "      <th>Adj Close</th>\n",
       "      <th>Volume</th>\n",
       "      <th>Return</th>\n",
       "      <th>Volatility</th>\n",
       "      <th>Market_Cap</th>\n",
       "      <th>P_E_Ratio</th>\n",
       "    </tr>\n",
       "  </thead>\n",
       "  <tbody>\n",
       "    <tr>\n",
       "      <th>0</th>\n",
       "      <td>2022-06-28</td>\n",
       "      <td>2482.100098</td>\n",
       "      <td>2533.949951</td>\n",
       "      <td>2482.100098</td>\n",
       "      <td>2527.699951</td>\n",
       "      <td>2520.112549</td>\n",
       "      <td>6263867</td>\n",
       "      <td>NaN</td>\n",
       "      <td>NaN</td>\n",
       "      <td>17114571210752</td>\n",
       "      <td>28.967169</td>\n",
       "    </tr>\n",
       "    <tr>\n",
       "      <th>1</th>\n",
       "      <td>2022-06-29</td>\n",
       "      <td>2507.199951</td>\n",
       "      <td>2597.000000</td>\n",
       "      <td>2501.000000</td>\n",
       "      <td>2580.149902</td>\n",
       "      <td>2572.405029</td>\n",
       "      <td>8863172</td>\n",
       "      <td>2.075007</td>\n",
       "      <td>NaN</td>\n",
       "      <td>17114571210752</td>\n",
       "      <td>28.967169</td>\n",
       "    </tr>\n",
       "    <tr>\n",
       "      <th>2</th>\n",
       "      <td>2022-06-30</td>\n",
       "      <td>2580.000000</td>\n",
       "      <td>2615.899902</td>\n",
       "      <td>2566.000000</td>\n",
       "      <td>2595.649902</td>\n",
       "      <td>2587.858643</td>\n",
       "      <td>10666627</td>\n",
       "      <td>0.600740</td>\n",
       "      <td>NaN</td>\n",
       "      <td>17114571210752</td>\n",
       "      <td>28.967169</td>\n",
       "    </tr>\n",
       "    <tr>\n",
       "      <th>3</th>\n",
       "      <td>2022-07-01</td>\n",
       "      <td>2574.899902</td>\n",
       "      <td>2592.000000</td>\n",
       "      <td>2365.000000</td>\n",
       "      <td>2408.699951</td>\n",
       "      <td>2401.469727</td>\n",
       "      <td>37841671</td>\n",
       "      <td>-7.202433</td>\n",
       "      <td>NaN</td>\n",
       "      <td>17114571210752</td>\n",
       "      <td>28.967169</td>\n",
       "    </tr>\n",
       "    <tr>\n",
       "      <th>4</th>\n",
       "      <td>2022-07-04</td>\n",
       "      <td>2378.949951</td>\n",
       "      <td>2442.000000</td>\n",
       "      <td>2366.100098</td>\n",
       "      <td>2413.699951</td>\n",
       "      <td>2406.454834</td>\n",
       "      <td>19317335</td>\n",
       "      <td>0.207581</td>\n",
       "      <td>NaN</td>\n",
       "      <td>17114571210752</td>\n",
       "      <td>28.967169</td>\n",
       "    </tr>\n",
       "    <tr>\n",
       "      <th>...</th>\n",
       "      <td>...</td>\n",
       "      <td>...</td>\n",
       "      <td>...</td>\n",
       "      <td>...</td>\n",
       "      <td>...</td>\n",
       "      <td>...</td>\n",
       "      <td>...</td>\n",
       "      <td>...</td>\n",
       "      <td>...</td>\n",
       "      <td>...</td>\n",
       "      <td>...</td>\n",
       "    </tr>\n",
       "    <tr>\n",
       "      <th>242</th>\n",
       "      <td>2023-06-20</td>\n",
       "      <td>2547.550049</td>\n",
       "      <td>2564.000000</td>\n",
       "      <td>2535.000000</td>\n",
       "      <td>2557.100098</td>\n",
       "      <td>2557.100098</td>\n",
       "      <td>3194085</td>\n",
       "      <td>0.207698</td>\n",
       "      <td>40.066737</td>\n",
       "      <td>17114571210752</td>\n",
       "      <td>28.967169</td>\n",
       "    </tr>\n",
       "    <tr>\n",
       "      <th>243</th>\n",
       "      <td>2023-06-21</td>\n",
       "      <td>2557.000000</td>\n",
       "      <td>2569.850098</td>\n",
       "      <td>2548.000000</td>\n",
       "      <td>2564.300049</td>\n",
       "      <td>2564.300049</td>\n",
       "      <td>3212779</td>\n",
       "      <td>0.281567</td>\n",
       "      <td>42.338466</td>\n",
       "      <td>17114571210752</td>\n",
       "      <td>28.967169</td>\n",
       "    </tr>\n",
       "    <tr>\n",
       "      <th>244</th>\n",
       "      <td>2023-06-22</td>\n",
       "      <td>2556.000000</td>\n",
       "      <td>2573.300049</td>\n",
       "      <td>2532.000000</td>\n",
       "      <td>2535.500000</td>\n",
       "      <td>2535.500000</td>\n",
       "      <td>3516244</td>\n",
       "      <td>-1.123115</td>\n",
       "      <td>43.029524</td>\n",
       "      <td>17114571210752</td>\n",
       "      <td>28.967169</td>\n",
       "    </tr>\n",
       "    <tr>\n",
       "      <th>245</th>\n",
       "      <td>2023-06-23</td>\n",
       "      <td>2528.899902</td>\n",
       "      <td>2533.399902</td>\n",
       "      <td>2512.000000</td>\n",
       "      <td>2514.750000</td>\n",
       "      <td>2514.750000</td>\n",
       "      <td>3059084</td>\n",
       "      <td>-0.818379</td>\n",
       "      <td>43.168649</td>\n",
       "      <td>17114571210752</td>\n",
       "      <td>28.967169</td>\n",
       "    </tr>\n",
       "    <tr>\n",
       "      <th>246</th>\n",
       "      <td>2023-06-26</td>\n",
       "      <td>2507.000000</td>\n",
       "      <td>2515.399902</td>\n",
       "      <td>2488.699951</td>\n",
       "      <td>2495.550049</td>\n",
       "      <td>2495.550049</td>\n",
       "      <td>5833893</td>\n",
       "      <td>-0.763493</td>\n",
       "      <td>43.158374</td>\n",
       "      <td>17114571210752</td>\n",
       "      <td>28.967169</td>\n",
       "    </tr>\n",
       "  </tbody>\n",
       "</table>\n",
       "<p>247 rows × 11 columns</p>\n",
       "</div>"
      ],
      "text/plain": [
       "           Date         Open         High          Low        Close   \n",
       "0    2022-06-28  2482.100098  2533.949951  2482.100098  2527.699951  \\\n",
       "1    2022-06-29  2507.199951  2597.000000  2501.000000  2580.149902   \n",
       "2    2022-06-30  2580.000000  2615.899902  2566.000000  2595.649902   \n",
       "3    2022-07-01  2574.899902  2592.000000  2365.000000  2408.699951   \n",
       "4    2022-07-04  2378.949951  2442.000000  2366.100098  2413.699951   \n",
       "..          ...          ...          ...          ...          ...   \n",
       "242  2023-06-20  2547.550049  2564.000000  2535.000000  2557.100098   \n",
       "243  2023-06-21  2557.000000  2569.850098  2548.000000  2564.300049   \n",
       "244  2023-06-22  2556.000000  2573.300049  2532.000000  2535.500000   \n",
       "245  2023-06-23  2528.899902  2533.399902  2512.000000  2514.750000   \n",
       "246  2023-06-26  2507.000000  2515.399902  2488.699951  2495.550049   \n",
       "\n",
       "       Adj Close    Volume    Return  Volatility      Market_Cap  P_E_Ratio  \n",
       "0    2520.112549   6263867       NaN         NaN  17114571210752  28.967169  \n",
       "1    2572.405029   8863172  2.075007         NaN  17114571210752  28.967169  \n",
       "2    2587.858643  10666627  0.600740         NaN  17114571210752  28.967169  \n",
       "3    2401.469727  37841671 -7.202433         NaN  17114571210752  28.967169  \n",
       "4    2406.454834  19317335  0.207581         NaN  17114571210752  28.967169  \n",
       "..           ...       ...       ...         ...             ...        ...  \n",
       "242  2557.100098   3194085  0.207698   40.066737  17114571210752  28.967169  \n",
       "243  2564.300049   3212779  0.281567   42.338466  17114571210752  28.967169  \n",
       "244  2535.500000   3516244 -1.123115   43.029524  17114571210752  28.967169  \n",
       "245  2514.750000   3059084 -0.818379   43.168649  17114571210752  28.967169  \n",
       "246  2495.550049   5833893 -0.763493   43.158374  17114571210752  28.967169  \n",
       "\n",
       "[247 rows x 11 columns]"
      ]
     },
     "execution_count": 83,
     "metadata": {},
     "output_type": "execute_result"
    }
   ],
   "source": [
    "data"
   ]
  },
  {
   "cell_type": "code",
   "execution_count": 84,
   "id": "665c29ea",
   "metadata": {},
   "outputs": [
    {
     "data": {
      "text/plain": [
       "Date           0\n",
       "Open           0\n",
       "High           0\n",
       "Low            0\n",
       "Close          0\n",
       "Adj Close      0\n",
       "Volume         0\n",
       "Return         1\n",
       "Volatility    29\n",
       "Market_Cap     0\n",
       "P_E_Ratio      0\n",
       "dtype: int64"
      ]
     },
     "execution_count": 84,
     "metadata": {},
     "output_type": "execute_result"
    }
   ],
   "source": [
    "# Check for missing values in the DataFrame\n",
    "data.isnull().sum()"
   ]
  },
  {
   "cell_type": "code",
   "execution_count": 85,
   "id": "e2fbc622",
   "metadata": {},
   "outputs": [],
   "source": [
    "mean_return = data['Return'].mean()\n",
    "data['Return'].fillna(mean_return, inplace=True)"
   ]
  },
  {
   "cell_type": "code",
   "execution_count": 91,
   "id": "6b414f45",
   "metadata": {},
   "outputs": [
    {
     "name": "stdout",
     "output_type": "stream",
     "text": [
      "The average daily trading volume: 5911112.251012146\n"
     ]
    }
   ],
   "source": [
    "average_volume= data['Volume'].mean()\n",
    "print(\"The average daily trading volume:\",average_volume)"
   ]
  },
  {
   "cell_type": "code",
   "execution_count": 87,
   "id": "4ce507de",
   "metadata": {},
   "outputs": [
    {
     "name": "stdout",
     "output_type": "stream",
     "text": [
      "26.52441903788572\n",
      "99.544463450993\n"
     ]
    }
   ],
   "source": [
    "print(data['Volatility'].min())\n",
    "print(data['Volatility'].max())\n",
    "\n",
    "data['Volatility'].fillna(data['Volatility'].mean,inplace=True)\n"
   ]
  },
  {
   "cell_type": "code",
   "execution_count": 88,
   "id": "761efde6",
   "metadata": {},
   "outputs": [
    {
     "data": {
      "text/plain": [
       "Date          0\n",
       "Open          0\n",
       "High          0\n",
       "Low           0\n",
       "Close         0\n",
       "Adj Close     0\n",
       "Volume        0\n",
       "Return        0\n",
       "Volatility    0\n",
       "Market_Cap    0\n",
       "P_E_Ratio     0\n",
       "dtype: int64"
      ]
     },
     "execution_count": 88,
     "metadata": {},
     "output_type": "execute_result"
    }
   ],
   "source": [
    "data.isnull().sum()"
   ]
  },
  {
   "cell_type": "code",
   "execution_count": 89,
   "id": "b95a6bbf",
   "metadata": {},
   "outputs": [
    {
     "data": {
      "image/png": "[encoded data removed]",
      "text/plain": [
       "<Figure size 640x480 with 1 Axes>"
      ]
     },
     "metadata": {},
     "output_type": "display_data"
    }
   ],
   "source": [
    "import matplotlib.pyplot as plt\n",
    "import numpy as np\n",
    "\n",
    "# Step 5: Plot volatility vs day \n",
    "plt.plot(stock_data.index, stock_data['Volatility'], label='Volatility')\n",
    "plt.xlabel('Day')\n",
    "plt.ylabel('Volatility')\n",
    "plt.title('Volatility vs Day')\n",
    "plt.xticks(rotation=45)\n",
    "plt.grid(True)\n",
    "plt.legend()\n",
    "plt.show()\n"
   ]
  },
  {
   "cell_type": "code",
   "execution_count": 90,
   "id": "37dcba95",
   "metadata": {},
   "outputs": [
    {
     "name": "stdout",
     "output_type": "stream",
     "text": [
      "[*********************100%***********************]  1 of 1 completed\n"
     ]
    },
    {
     "data": {
      "image/png": "[encoded data removed]",
      "text/plain": [
       "<Figure size 800x575 with 2 Axes>"
      ]
     },
     "metadata": {},
     "output_type": "display_data"
    }
   ],
   "source": [
    "import mplfinance as mpf\n",
    "\n",
    "start_date = '2022-06-28'\n",
    "end_date = '2022-07-28'\n",
    "\n",
    "# Step 1: Extract historical data\n",
    "stock_data = extract_stock_data(symbol, start_date, end_date)\n",
    "\n",
    "# Step 2: Create candlestick chart\n",
    "mpf.plot(stock_data, type='candle', title='Stock Performance', ylabel='Price', style='yahoo')"
   ]
  },
  {
   "cell_type": "code",
   "execution_count": null,
   "id": "505b9817",
   "metadata": {},
   "outputs": [],
   "source": []
  }
 ],
 "metadata": {
  "kernelspec": {
   "display_name": "Python 3 (ipykernel)",
   "language": "python",
   "name": "python3"
  },
  "language_info": {
   "codemirror_mode": {
    "name": "ipython",
    "version": 3
   },
   "file_extension": ".py",
   "mimetype": "text/x-python",
   "name": "python",
   "nbconvert_exporter": "python",
   "pygments_lexer": "ipython3",
   "version": "3.11.3"
  }
 },
 "nbformat": 4,
 "nbformat_minor": 5
}
